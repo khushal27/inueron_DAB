{
 "cells": [
  {
   "cell_type": "markdown",
   "id": "565d1256",
   "metadata": {},
   "source": [
    "# 1 What does the dollar($) sign do?\n",
    "\n",
    "Answer : Its creates absolute reference of the cell."
   ]
  },
  {
   "cell_type": "markdown",
   "id": "4d042e93",
   "metadata": {},
   "source": [
    "# 2 How to Change the Reference from Relative to Absolute (or Mixed)?\n",
    "Answer : This can be achieved using dollor($) sign.\n",
    "for example : A1(relative reference) > $A$1 (Obsolute Reference) > A$1 (Mixed Reference) > $A1 (Mixed Reference)"
   ]
  },
  {
   "cell_type": "markdown",
   "id": "e44448a6",
   "metadata": {},
   "source": [
    "# 3 Explain the order of operations in excel?\n",
    "Answer : It follow the standard BODMAS approch where B(Brackets or parenthesis) > O (Order or exponential) \n",
    "    > D (Division) > M (Multiplication) > A (Addition) > S (Substraction)"
   ]
  },
  {
   "cell_type": "markdown",
   "id": "dc2b9e2d",
   "metadata": {},
   "source": [
    "# 4 What, according to you, are the top 5 functions in excel and write a basic syntax for any of two?\n",
    "Answer : According to me VLOOKUP/HLOOKUP ,SUMIFS , COUNTIFS , TEXT , SUMPRODUCT:\n",
    "        VLOOKUP : =\"vlookup(lookupvalue , Range , colnum, matching_criteria)\"\n",
    "        SUMIFS : =\"sumifs(sum_range,criteria1_range,criteria1)\""
   ]
  },
  {
   "cell_type": "markdown",
   "id": "9f521fc0",
   "metadata": {},
   "source": [
    "# 5 When would you use the subtotal function?\n",
    "Answer : It is mainly used when we want to see sum,count , averarge etc of the filtered values."
   ]
  },
  {
   "cell_type": "markdown",
   "id": "7b1647ba",
   "metadata": {},
   "source": [
    "# What is the syntax of the vlookup function? Explain the terms in it?\n",
    "Answer : VLOOKUP(lookupvalue , Range , colnum, matching_criteria)\"\n",
    "    lookupvalue : The value we want match or search in the table or range\n",
    "    Range : The Data where we are matching or searching lookupvalue\n",
    "    colnum : The matching/desired column num of the lookupvalue\n",
    "    matching_criteria : complete match or partial match of the lookup value (boolean value)\n",
    "    \n",
    "    Note : for vlookup lookupvalue should always be present as the first column of Range(or reference table)"
   ]
  }
 ],
 "metadata": {
  "kernelspec": {
   "display_name": "Python 3 (ipykernel)",
   "language": "python",
   "name": "python3"
  },
  "language_info": {
   "codemirror_mode": {
    "name": "ipython",
    "version": 3
   },
   "file_extension": ".py",
   "mimetype": "text/x-python",
   "name": "python",
   "nbconvert_exporter": "python",
   "pygments_lexer": "ipython3",
   "version": "3.9.7"
  }
 },
 "nbformat": 4,
 "nbformat_minor": 5
}
