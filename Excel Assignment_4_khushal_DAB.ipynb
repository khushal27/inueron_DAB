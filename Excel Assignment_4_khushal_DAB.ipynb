{
 "cells": [
  {
   "cell_type": "markdown",
   "id": "57cf9dc3",
   "metadata": {},
   "source": [
    "1. To use the ribbon commands, what menu and grouping of commands will you find the Insert and Delete command?\n",
    "Answer : using mouse > select home tab > cells > insert or delete\n",
    "        using keyboard\n",
    "        For inserting : press and release Alt key > then H > then I > then I(Cell) or R(row) or C(column) or S(sheet) \n",
    "        For Deleting : press and release Alt key > then H > then D > then D(Cell) or R(row) or C(column) or S(sheet) "
   ]
  },
  {
   "cell_type": "markdown",
   "id": "1f71f3f1",
   "metadata": {},
   "source": [
    "2. If you set a row height or column width to 0 (zero), what happens to the row and column?\n",
    "Answer : That column or row will become hidden"
   ]
  },
  {
   "cell_type": "markdown",
   "id": "b14bdc04",
   "metadata": {},
   "source": [
    "3. Is there a need to change the height and width in a cell? Why?\n",
    "Answer : Yes , when the text is the cell is too long and we want it to make it properly visible to the users."
   ]
  },
  {
   "cell_type": "markdown",
   "id": "82a79ee9",
   "metadata": {},
   "source": [
    "4. What is the keyboard shortcut to unhide rows?\n",
    "Answer : Ctrl+Shift+9 , for example rows 2,3,4 are hidden then select row 1 and 5 and use shortcut : Ctrl(hold)+Shift(hold)+9"
   ]
  },
  {
   "cell_type": "markdown",
   "id": "b6459d5a",
   "metadata": {},
   "source": [
    "5. How to hide rows containing blank cells?\n",
    "Answer : Select the range > Ctrl+G > Select \"Special\" > Select Blanks radio button > click OK. It will select all the cells contain blank in that range. Then Press Ctrl + 9 to hide those rows."
   ]
  },
  {
   "cell_type": "markdown",
   "id": "5ae85285",
   "metadata": {},
   "source": [
    "6. What are the steps to hide the duplicate values using conditional formatting in excel?\n",
    "Answer :"
   ]
  }
 ],
 "metadata": {
  "kernelspec": {
   "display_name": "Python 3 (ipykernel)",
   "language": "python",
   "name": "python3"
  },
  "language_info": {
   "codemirror_mode": {
    "name": "ipython",
    "version": 3
   },
   "file_extension": ".py",
   "mimetype": "text/x-python",
   "name": "python",
   "nbconvert_exporter": "python",
   "pygments_lexer": "ipython3",
   "version": "3.9.7"
  }
 },
 "nbformat": 4,
 "nbformat_minor": 5
}
