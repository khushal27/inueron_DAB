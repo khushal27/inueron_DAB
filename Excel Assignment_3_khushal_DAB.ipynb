{
 "cells": [
  {
   "cell_type": "markdown",
   "id": "f68bfd82",
   "metadata": {},
   "source": [
    "# 1 How and when to use the AutoSum command in excel?\n",
    "Answer :  Autosum is usefull when we dont want to choose specific range of cells. It will automatically added the range of cells and apply the sum function. For example we want to sum the values is Range A1 till A10 the we can select cells A11 goto home tab in menu > goto Editing section > click on Summation symbol(Σ) "
   ]
  },
  {
   "cell_type": "markdown",
   "id": "9adb33e2",
   "metadata": {},
   "source": [
    "# 2 What is the shortcut key to perform AutoSum?\n",
    "Answer : select the cell where we want to apply Autosum > use shortcut Alt+="
   ]
  },
  {
   "cell_type": "markdown",
   "id": "383e948c",
   "metadata": {},
   "source": [
    "# 3 How do you get rid of Formula that omits adjacent cells?\n",
    "Answer : Go to Options > Formulas > Error checking rules > then uncheck \"Formulas which omit cells in a region\" > Click OK."
   ]
  },
  {
   "cell_type": "markdown",
   "id": "18dc4651",
   "metadata": {},
   "source": [
    "# 4 How do you select non-adjacent cells in Excel 2016?\n",
    "Answer : By pressing Ctrl key and selecting the desired cells."
   ]
  },
  {
   "cell_type": "markdown",
   "id": "0af01309",
   "metadata": {},
   "source": [
    "# 5 What happens if you choose a column, hold down the Alt key and press the letters ocw in quick succession?\n",
    "Answer : It will give a pop-up where we can change width of the selected column."
   ]
  },
  {
   "cell_type": "markdown",
   "id": "078e9725",
   "metadata": {},
   "source": [
    "# 6 If you right-click on a row reference number and click on Insert, where will the row be added?\n",
    "Answer : Row will be added above the selected row reference. "
   ]
  },
  {
   "cell_type": "code",
   "execution_count": null,
   "id": "c67ba297",
   "metadata": {},
   "outputs": [],
   "source": []
  }
 ],
 "metadata": {
  "kernelspec": {
   "display_name": "Python 3 (ipykernel)",
   "language": "python",
   "name": "python3"
  },
  "language_info": {
   "codemirror_mode": {
    "name": "ipython",
    "version": 3
   },
   "file_extension": ".py",
   "mimetype": "text/x-python",
   "name": "python",
   "nbconvert_exporter": "python",
   "pygments_lexer": "ipython3",
   "version": "3.9.7"
  }
 },
 "nbformat": 4,
 "nbformat_minor": 5
}
