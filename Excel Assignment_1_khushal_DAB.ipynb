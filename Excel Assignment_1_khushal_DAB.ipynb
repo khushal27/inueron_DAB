{
 "cells": [
  {
   "cell_type": "markdown",
   "id": "d70db417",
   "metadata": {},
   "source": [
    "# 1. What do you mean by cells in an excel sheet?\n",
    "Answer : Cells in excel sheet means the area where the actual data( text,numbers,formula etc). is entered or store Address of any cell is represented by column and Row. For examaple : C5 means where C is the column and 5 is the row\n"
   ]
  },
  {
   "cell_type": "markdown",
   "id": "344e4b04",
   "metadata": {},
   "source": [
    "# 2. How can you restrict someone from copying a cell from your worksheet?\n",
    "Answer : To protect a cell or sheet goto Review > Protect Sheet , here you need to uncheck \"Select locked/Unlocked cells\"\n",
    "    . Along with this you can use Review > Allow Edit range to select which cells are allowed to copy "
   ]
  },
  {
   "cell_type": "markdown",
   "id": "1b14f36b",
   "metadata": {},
   "source": [
    "# 3. How to move or copy the worksheet into another workbook?\n",
    "Answer : Right Click on sheet name > select move or copy , Select Workbook name or new workbook in the \"To book\" dropdown\n",
    "    and click on OK "
   ]
  },
  {
   "cell_type": "markdown",
   "id": "f7a920b4",
   "metadata": {},
   "source": [
    "# 4. Which key is used as a shortcut for opening a new window document?\n",
    "Answer : In general we use Ctrl + N and same is applied here also in Excel"
   ]
  },
  {
   "cell_type": "markdown",
   "id": "80fb24d5",
   "metadata": {},
   "source": [
    "# 5. What are the things that we can notice after opening the Excel interface?\n",
    "Answer : Once Excel is opened , we can see whole list of menu bars such as File,Home,Insert,Page Layout etc. \n",
    "    This menu bar tab can customised like for example \"Developer Tab\" is by default not present in fresh installtion of Excel\n",
    "    , but we select that in file > option > customized Ribbon. Then below menu option there is \"Formula Bar\". \n",
    "    Also we can see blank sheet (Sheet1) with Cell A1 get as active\n",
    "    cell by default. Also we can see Zoom slider in bottom left cornor of the Excel workbook. "
   ]
  },
  {
   "cell_type": "markdown",
   "id": "2b64bace",
   "metadata": {},
   "source": [
    "# 6. When to use a relative cell reference in excel?\n",
    "Answer : Relative cell is used when we have to repeat or reference the same calulation for on other data. \n",
    "    For example in cell C2 we can use =A2+B2 ( Relative cell reference), when we drag or copy C2 formula to C3 then the formula\n",
    "    in C3 will change to =A3+B3"
   ]
  }
 ],
 "metadata": {
  "kernelspec": {
   "display_name": "Python 3 (ipykernel)",
   "language": "python",
   "name": "python3"
  },
  "language_info": {
   "codemirror_mode": {
    "name": "ipython",
    "version": 3
   },
   "file_extension": ".py",
   "mimetype": "text/x-python",
   "name": "python",
   "nbconvert_exporter": "python",
   "pygments_lexer": "ipython3",
   "version": "3.9.7"
  }
 },
 "nbformat": 4,
 "nbformat_minor": 5
}
